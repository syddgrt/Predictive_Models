{
 "cells": [
  {
   "cell_type": "code",
   "execution_count": 18,
   "id": "d9711654",
   "metadata": {},
   "outputs": [],
   "source": [
    "## ANURAN_7\n",
    "\n",
    "##### AZRI ZAMRUD BIN KIMIN (153507)\n",
    "##### HAZIQ BIN HIZUL (152270)\n",
    "##### MUHAMMAD ARMAND BIN MUHAMAD FAZLI (153857)\n",
    "##### SYED MUHAMMAD HAIKAL BIN SYED HUSNI (153086)"
   ]
  },
  {
   "cell_type": "code",
   "execution_count": 1,
   "id": "dfe0e1cf",
   "metadata": {},
   "outputs": [],
   "source": [
    "import numpy as np\n",
    "import matplotlib.pyplot as plt\n",
    "import pandas as pd\n",
    "import seaborn as sns\n",
    "%matplotlib notebook"
   ]
  },
  {
   "cell_type": "code",
   "execution_count": 2,
   "id": "a8f4893e",
   "metadata": {},
   "outputs": [],
   "source": [
    "dataset = pd.read_csv('frogs_mfcc.csv')"
   ]
  },
  {
   "cell_type": "code",
   "execution_count": 3,
   "id": "8dd14f25",
   "metadata": {},
   "outputs": [],
   "source": [
    "\n",
    "#Declaring feature vector and target variable\n",
    "#note: Saya assume variable yang kita nak target tu species sebab itu je yang berlainan\n",
    "\n",
    "X = dataset.iloc[:,0:22]"
   ]
  },
  {
   "cell_type": "code",
   "execution_count": 4,
   "id": "8acfb3e7",
   "metadata": {},
   "outputs": [],
   "source": [
    "X=pd.get_dummies(X)"
   ]
  },
  {
   "cell_type": "code",
   "execution_count": 5,
   "id": "cf662197",
   "metadata": {},
   "outputs": [],
   "source": [
    "X=X.values"
   ]
  },
  {
   "cell_type": "code",
   "execution_count": 6,
   "id": "e48a2d68",
   "metadata": {},
   "outputs": [
    {
     "data": {
      "text/plain": [
       "array([[ 1.00000000e+00,  1.52936298e-01, -1.05585903e-01, ...,\n",
       "         5.76839754e-02,  1.18680135e-01,  1.40384457e-02],\n",
       "       [ 1.00000000e+00,  1.71534257e-01, -9.89747371e-02, ...,\n",
       "         2.01399631e-02,  8.22629869e-02,  2.90557422e-02],\n",
       "       [ 1.00000000e+00,  1.52317085e-01, -8.29726739e-02, ...,\n",
       "        -2.50832268e-02,  9.91083997e-02,  7.71623847e-02],\n",
       "       ...,\n",
       "       [ 1.00000000e+00, -5.82556781e-01, -3.43237394e-01, ...,\n",
       "         2.78338002e-02, -5.30614770e-04, -8.04253341e-02],\n",
       "       [ 1.00000000e+00, -5.19497158e-01, -3.07553060e-01, ...,\n",
       "         4.18033791e-02, -2.79113834e-02, -9.68953698e-02],\n",
       "       [ 1.00000000e+00, -5.08833178e-01, -3.24105837e-01, ...,\n",
       "         3.15595726e-02, -2.93554758e-02, -8.79096248e-02]])"
      ]
     },
     "execution_count": 6,
     "metadata": {},
     "output_type": "execute_result"
    }
   ],
   "source": [
    "X"
   ]
  },
  {
   "cell_type": "code",
   "execution_count": 7,
   "id": "5b3b84ba",
   "metadata": {},
   "outputs": [],
   "source": [
    "y=dataset.iloc[:,-1].values"
   ]
  },
  {
   "cell_type": "code",
   "execution_count": 8,
   "id": "6e36f30f",
   "metadata": {},
   "outputs": [],
   "source": [
    "\n",
    "#Split data into separate training and test set\n",
    "#note: untuk machine learning dia perlu ada training set dengan test set\n",
    "#note: nombor test_size dengan random_state tu sya tengok memang recommended kat google\n",
    "\n",
    "from sklearn.model_selection import train_test_split\n",
    "\n",
    "X_train, X_test, y_train, y_test = train_test_split(X, y, test_size = 0.2, random_state = 42)"
   ]
  },
  {
   "cell_type": "code",
   "execution_count": 9,
   "id": "15b62c1f",
   "metadata": {},
   "outputs": [],
   "source": [
    "from sklearn.neighbors import KNeighborsClassifier"
   ]
  },
  {
   "cell_type": "code",
   "execution_count": 10,
   "id": "820acef0",
   "metadata": {},
   "outputs": [],
   "source": [
    "KNN = KNeighborsClassifier(n_neighbors=5,\n",
    "weights = 'uniform',\n",
    "algorithm = 'kd_tree',\n",
    "leaf_size =30,\n",
    "p=2,\n",
    "metric='minkowski',\n",
    "metric_params=None,\n",
    "n_jobs=-1)"
   ]
  },
  {
   "cell_type": "code",
   "execution_count": 11,
   "id": "a6d39863",
   "metadata": {},
   "outputs": [
    {
     "data": {
      "text/plain": [
       "KNeighborsClassifier(algorithm='kd_tree', n_jobs=-1)"
      ]
     },
     "execution_count": 11,
     "metadata": {},
     "output_type": "execute_result"
    }
   ],
   "source": [
    "KNN.fit(X_train, y_train)"
   ]
  },
  {
   "cell_type": "code",
   "execution_count": 12,
   "id": "ae81833e",
   "metadata": {},
   "outputs": [],
   "source": [
    "y_pred = KNN.predict(X_test)"
   ]
  },
  {
   "cell_type": "code",
   "execution_count": 13,
   "id": "0730cfdb",
   "metadata": {},
   "outputs": [],
   "source": [
    "from sklearn.metrics import classification_report, confusion_matrix"
   ]
  },
  {
   "cell_type": "code",
   "execution_count": 16,
   "id": "b02cd7eb",
   "metadata": {},
   "outputs": [
    {
     "name": "stdout",
     "output_type": "stream",
     "text": [
      "                        precision    recall  f1-score   support\n",
      "\n",
      "        AdenomeraAndre       0.96      0.97      0.97       146\n",
      "AdenomeraHylaedactylus       1.00      1.00      1.00       694\n",
      "    Ameeregatrivittata       0.99      0.99      0.99       106\n",
      "            HylaMinuta       0.96      0.91      0.94        57\n",
      "  HypsiboasCinerascens       0.94      0.99      0.96        90\n",
      "     HypsiboasCordobae       0.99      0.99      0.99       231\n",
      "   LeptodactylusFuscus       0.96      1.00      0.98        54\n",
      " OsteocephalusOophagus       1.00      0.70      0.82        20\n",
      "     Rhinellagranulosa       1.00      0.88      0.94        17\n",
      "           ScinaxRuber       1.00      0.96      0.98        24\n",
      "\n",
      "              accuracy                           0.98      1439\n",
      "             macro avg       0.98      0.94      0.96      1439\n",
      "          weighted avg       0.98      0.98      0.98      1439\n",
      "\n"
     ]
    }
   ],
   "source": [
    "print(classification_report(y_test, y_pred))"
   ]
  },
  {
   "cell_type": "code",
   "execution_count": 17,
   "id": "91b7ec3b",
   "metadata": {},
   "outputs": [
    {
     "name": "stdout",
     "output_type": "stream",
     "text": [
      "[[142   0   1   1   1   1   0   0   0   0]\n",
      " [  0 693   0   0   0   1   0   0   0   0]\n",
      " [  0   0 105   1   0   0   0   0   0   0]\n",
      " [  2   3   0  52   0   0   0   0   0   0]\n",
      " [  1   0   0   0  89   0   0   0   0   0]\n",
      " [  0   0   0   0   2 229   0   0   0   0]\n",
      " [  0   0   0   0   0   0  54   0   0   0]\n",
      " [  2   0   0   0   3   1   0  14   0   0]\n",
      " [  0   0   0   0   0   0   2   0  15   0]\n",
      " [  1   0   0   0   0   0   0   0   0  23]]\n"
     ]
    }
   ],
   "source": [
    "print(confusion_matrix(y_test, y_pred))"
   ]
  },
  {
   "cell_type": "code",
   "execution_count": null,
   "id": "999b7902",
   "metadata": {},
   "outputs": [],
   "source": []
  }
 ],
 "metadata": {
  "kernelspec": {
   "display_name": "Python 3 (ipykernel)",
   "language": "python",
   "name": "python3"
  },
  "language_info": {
   "codemirror_mode": {
    "name": "ipython",
    "version": 3
   },
   "file_extension": ".py",
   "mimetype": "text/x-python",
   "name": "python",
   "nbconvert_exporter": "python",
   "pygments_lexer": "ipython3",
   "version": "3.9.7"
  }
 },
 "nbformat": 4,
 "nbformat_minor": 5
}
